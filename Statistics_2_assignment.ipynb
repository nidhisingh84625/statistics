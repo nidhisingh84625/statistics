{
 "cells": [
  {
   "cell_type": "markdown",
   "id": "35bd581b-b227-4cc9-b07a-0ec5949d72e1",
   "metadata": {},
   "source": [
    "# Q1. What are the three measures of central tendency?\n"
   ]
  },
  {
   "cell_type": "markdown",
   "id": "e1a27d75-0626-4ace-88dc-1f5d0517b722",
   "metadata": {},
   "source": [
    "There are three main measures of central tendency:\n",
    "1. mode\n",
    "2. median\n",
    "3. mean"
   ]
  },
  {
   "cell_type": "markdown",
   "id": "27347323-7a0b-4c92-bb1a-70e75c518ca0",
   "metadata": {},
   "source": [
    "# Q2. What is the difference between the mean, median, and mode? How are they used to measure the central tendency of a dataset?\n"
   ]
  },
  {
   "cell_type": "markdown",
   "id": "749c2394-3e11-4670-97c5-9247027cacaf",
   "metadata": {},
   "source": [
    "Mode is the most repeated value in the given observation.\n",
    "The median is the middle number in an ordered data set. \n",
    "The mean is the sum of all values divided by the total number of values\n",
    "\n",
    "Measures of central tendency help you find the middle, or the average, of a dataset. The 3 most common measures of central tendency are the mode, median, and mean.\n",
    "The central tendency can be found using the formulas of mean, median or mode in most of the cases. As we know, mean is the average of a given data set, median is the middlemost data value and the mode represents the most frequently occurring data value in the set.\n",
    "In addition to central tendency, the variability and distribution of your dataset is important to understand when performing descriptive statistics."
   ]
  },
  {
   "cell_type": "markdown",
   "id": "573b41c3-9fcb-48a0-bdb8-576d6e91188a",
   "metadata": {},
   "source": [
    "# Q3. Measure the three measures of central tendency for the given height data: [178,177,176,177,178.2,178,175,179,180,175,178.9,176.2,177,172.5,178,176.5]\n"
   ]
  },
  {
   "cell_type": "code",
   "execution_count": null,
   "id": "0f10c689-b1a3-436d-8178-9c4f6f51ef23",
   "metadata": {},
   "outputs": [],
   "source": [
    "Mean=(178+177+176+177+178.2+178+175+179+180+175+178.9+176.2+177+172.5+178+176.5)/16=177.01\n",
    "[180, 179,178.9, 178.2, 178, 178, 178, 177, 177, 177, 176.5, 176.2, 176 , 175, 175, 172.5]\n",
    "Median=(177+177)/2=177\n",
    "Mode=178, 177(bimodal)"
   ]
  },
  {
   "cell_type": "markdown",
   "id": "ac20ee7d-a346-4591-a3cd-d8bbb2f61806",
   "metadata": {},
   "source": [
    "# Q4. Find the standard deviation for the given data: [178,177,176,177,178.2,178,175,179,180,175,178.9,176.2,177,172.5,178,176.5]\n"
   ]
  },
  {
   "cell_type": "code",
   "execution_count": null,
   "id": "8938d6cf-0a2c-4b8e-9616-7623dbbe1887",
   "metadata": {},
   "outputs": [],
   "source": [
    "Mean=177.01\n",
    "N=16\n",
    "SD=[(178-177.01)^2 +(177-177.01)^2 +(176-177.01)^2 +(177-177.01)^2 +(178.2-177.01)^2 +(178-177.01)^2 +(175-177.01)^2 +(179-177.01)^2 +(180-177.01)^2 +(175-177.01)^2 +(178.9-177.01)^2 +(176.2-177.01)^2 +(177-177.01)^2 +(172.5-177.01)^2 +(178-177.01)^2 +(176.5-177.01)^2]/16\n",
    "SD=[0.9801+ 0.0001 +1.0201+ 0.0001+ 1.4161+ 0.9801+ 4.0401+ 3.9601+ 8.9401+ 4.0401+ 3.5721+ 0.6561+ 0.0001+ 20.3401+ 0.9801+ 0.2601]/16\n",
    "SD=3.1991"
   ]
  },
  {
   "cell_type": "markdown",
   "id": "fbc80702-067a-4c61-8a90-b40dce7c5fc4",
   "metadata": {},
   "source": [
    "# Q5. How are measures of dispersion such as range, variance, and standard deviation used to describe the spread of a dataset? Provide an example.\n"
   ]
  },
  {
   "cell_type": "markdown",
   "id": "c146f520-7e38-4058-b3fb-e57d927b4587",
   "metadata": {},
   "source": [
    "Range:\n",
    "The range is the easiest dispersion of data or measure of variability. The range can measure by subtracting the lowest value from the massive Number. The wide range indicates high variability, and the small range specifies low variability in the distribution. To calculate a range, prepare all the values in ascending order, then subtract the lowest value from the highest value.\n",
    "    Range = Highest_value  – Lowest_value\n",
    "\n",
    "Example: Student ID= 1,2,3,4,5\n",
    "         Marks= 37, 33, 19, 25, 28\n",
    "         Range = Highest_value  – Lowest_value= 37-19= 18\n",
    "         \n",
    "             \n",
    "Variance:\n",
    "Variance is a simple measure of dispersion. Variance measures how far each number in the dataset from the mean. To compute variance first, calculate the mean and squared deviations from a mean.\n",
    "\n",
    "Standard Deviation:\n",
    "Standard deviation is a squared root of the variance to get original values. Low standard deviation indicates data points close to mean."
   ]
  },
  {
   "cell_type": "markdown",
   "id": "eb3b7468-63b7-40bc-86bf-432f03cefb7e",
   "metadata": {},
   "source": [
    "# Q6. What is a Venn diagram?\n"
   ]
  },
  {
   "cell_type": "markdown",
   "id": "d741b0e0-8e5b-4b2d-8f94-d76c5cbd0664",
   "metadata": {},
   "source": [
    "A Venn diagram is also called a set diagram or a logic diagram showing different set operations such as the intersection of sets, union of sets and difference of sets. It is also used to depict subsets of a set. For example, a set of natural numbers is a subset of whole numbers, which is a subset of integers."
   ]
  },
  {
   "cell_type": "markdown",
   "id": "99af8794-2b48-4be8-928b-76e7c4c052a5",
   "metadata": {},
   "source": [
    "# Q7. For the two given sets A = (2,3,4,5,6,7) & B = (0,2,6,8,10). Find: (i) A ∩ B  (ii) A ⋃ B\n"
   ]
  },
  {
   "cell_type": "markdown",
   "id": "bf1dda73-687d-4ca3-a548-1a27528b80cf",
   "metadata": {},
   "source": [
    "(i) A ∩ B = (2, 6)\n",
    "(ii) A ⋃ B = (0,2,3,4,5,6,7,8,10)"
   ]
  },
  {
   "cell_type": "markdown",
   "id": "2854144b-fa86-454a-8898-47ad84f4fd0a",
   "metadata": {},
   "source": [
    "# Q8. What do you understand about skewness in data?\n"
   ]
  },
  {
   "cell_type": "markdown",
   "id": "de3b1734-5b0b-40c9-9752-bbcf00f02113",
   "metadata": {},
   "source": [
    "Skewness is a measure of the asymmetry of a distribution. A distribution is asymmetrical when its left and right side are not mirror images.\n",
    "A distribution can have right (or positive), left (or negative), or zero skewness. A right-skewed distribution is longer on the right side of its peak, and a left-skewed distribution is longer on the left side of its peak:"
   ]
  },
  {
   "cell_type": "markdown",
   "id": "5edd1c75-f88b-4207-af2c-a8260b8beff2",
   "metadata": {},
   "source": [
    "# Q9. If a data is right skewed then what will be the position of median with respect to mean?\n"
   ]
  },
  {
   "cell_type": "markdown",
   "id": "698c54ed-66b3-4a52-ac94-5f47bdfd7bb6",
   "metadata": {},
   "source": [
    "If the distribution of data is skewed to the right, the mode is often less than the median, which is less than the mean."
   ]
  },
  {
   "cell_type": "markdown",
   "id": "c62c5568-d333-4cf9-8b97-ca2b147d2834",
   "metadata": {},
   "source": [
    "# Q10. Explain the difference between covariance and correlation. How are these measures used in statistical analysis?\n"
   ]
  },
  {
   "cell_type": "markdown",
   "id": "a41518c2-385c-4b35-ad66-e74a24dd399f",
   "metadata": {},
   "source": [
    "Both covariance and correlation measure the relationship and the dependency between two variables. Covariance indicates the direction of the linear relationship between variables while correlation measures both the strength and direction of the linear relationship between two variables.\n",
    "\n",
    "Covariance is a statistical tool used to determine the relationship between the movements of two random variables. When two stocks tend to move together, they are seen as having a positive covariance; when they move inversely, the covariance is negative.\n",
    "\n",
    "Correlation analysis in research is a statistical method used to measure the strength of the linear relationship between two variables and compute their association. Simply put - correlation analysis calculates the level of change in one variable due to the change in the other."
   ]
  },
  {
   "cell_type": "markdown",
   "id": "6126f2df-a285-4afa-ad2a-e02638b75161",
   "metadata": {},
   "source": [
    "# Q11. What is the formula for calculating the sample mean? Provide an example calculation for a dataset.\n"
   ]
  },
  {
   "cell_type": "markdown",
   "id": "9cca136b-47ab-4c9e-be75-ee23c3f83c8f",
   "metadata": {},
   "source": [
    "Calculating sample mean is as simple as adding up the number of items in a sample set and then dividing that sum by the number of items in the sample set. To calculate the sample mean through spreadsheet software and calculators, you can use the formula:\n",
    "\n",
    "x̄ = ( Σ xi ) / n\n",
    "\n",
    "Here, x̄ represents the sample mean, Σ tells us to add, xi refers to all the X-values and n stands for the number of items in the data set.Example: A teacher wants to find the average score for a student in his class. The teacher's sample set has seven different test scores: 78, 89, 93, 95, 88, 78, 95. \n",
    "\n",
    "Example: A teacher wants to find the average score for a student in his class. The teacher's sample set has seven different test scores: 78, 89, 93, 95, 88, 78, 95. \n",
    "x̄ = ( Σ xi ) / n=(78+89+93+95+88+78+95)/7=616/7=88"
   ]
  },
  {
   "cell_type": "markdown",
   "id": "e9552967-f7ff-4ca2-8feb-714a1e8ff34d",
   "metadata": {},
   "source": [
    "# Q12. For a normal distribution data what is the relationship between its measure of central tendency?\n"
   ]
  },
  {
   "cell_type": "markdown",
   "id": "66b0a2f9-d227-4524-ab0a-9d969d077c3a",
   "metadata": {},
   "source": [
    "For normally distributed data, all three measures of central tendency will give you the same answer so they can all be used."
   ]
  },
  {
   "cell_type": "markdown",
   "id": "f49b0609-57d0-43f9-ba36-b88880acbb73",
   "metadata": {},
   "source": [
    "# Q13. How is covariance different from correlation?\n"
   ]
  },
  {
   "cell_type": "markdown",
   "id": "e24ca68a-6abb-41ab-aea3-1793b91f14d8",
   "metadata": {},
   "source": [
    "Both covariance and correlation measure the relationship and the dependency between two variables. Covariance indicates the direction of the linear relationship between variables. Correlation measures both the strength and direction of the linear relationship between two variables."
   ]
  },
  {
   "cell_type": "markdown",
   "id": "ad6c5994-f953-4123-9ec2-b52ed58e106f",
   "metadata": {},
   "source": [
    "# Q14. How do outliers affect measures of central tendency and dispersion? Provide an example."
   ]
  },
  {
   "cell_type": "markdown",
   "id": "3be03830-8f2e-48e4-94a2-7af4cf4a2a4b",
   "metadata": {},
   "source": [
    "Outliers are numbers in a data set that are vastly larger or smaller than the other values in the set. Mean, median and mode are measures of central tendency. Mean is the only measure of central tendency that is always affected by an outlier. Mean, the average, is the most popular measure of central tendency.\n",
    "\n",
    "Measures of central tendency are mean, median and mode.\n",
    "Outliers affect the mean value of the data but have little effect on the median or mode of a given set of data.\n",
    "\n",
    "Example: A student receives a zero on a quiz and subsequently has the following scores: 0, 70, 70, 80, 85, 90, 90, 90, 95, 100\n",
    "Outlier: 0\n",
    "Mean=(0+70+70+80+85+90+90+90+95+100)/10=77\n",
    "\n",
    "Median: since the data set has 10 values, there are two middle numbers, so one must find the mean of these two values, 85 and\n",
    "90.\n",
    "\n",
    "Median=(85+90)/2=87.5\n",
    "\n",
    "Mode: The score 90 occurs more frequently than the other values (three times), so 90 is the mode.\n",
    "\n",
    "Receiving a zero on a quiz significantly affects a student’s mean, Notice that the outlier had a small effect on the median and mode of the data."
   ]
  },
  {
   "cell_type": "code",
   "execution_count": null,
   "id": "91394d74-81b5-42d1-8e5f-77cc584da230",
   "metadata": {},
   "outputs": [],
   "source": []
  }
 ],
 "metadata": {
  "kernelspec": {
   "display_name": "Python 3 (ipykernel)",
   "language": "python",
   "name": "python3"
  },
  "language_info": {
   "codemirror_mode": {
    "name": "ipython",
    "version": 3
   },
   "file_extension": ".py",
   "mimetype": "text/x-python",
   "name": "python",
   "nbconvert_exporter": "python",
   "pygments_lexer": "ipython3",
   "version": "3.10.8"
  }
 },
 "nbformat": 4,
 "nbformat_minor": 5
}
