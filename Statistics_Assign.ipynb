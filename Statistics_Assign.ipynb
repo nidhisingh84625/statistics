{
 "cells": [
  {
   "cell_type": "markdown",
   "id": "73c7ab16-a595-498f-93f2-b56a6355671b",
   "metadata": {},
   "source": [
    "# Q1. What is Statistics?"
   ]
  },
  {
   "cell_type": "markdown",
   "id": "a2d0cd4b-f729-4f5c-bc50-ad95a97f103b",
   "metadata": {},
   "source": [
    "In data science, statistics is at the core of sophisticated machine learning algorithms, capturing and translating data patterns into actionable evidence. Data scientists use statistics to gather, review, analyze, and draw conclusions from data, as well as apply quantified mathematical models to appropriate variables."
   ]
  },
  {
   "cell_type": "markdown",
   "id": "fba63100-4f2c-4309-a282-00cd2ec693e8",
   "metadata": {},
   "source": [
    "# Q2. Define the different types of statistics and give an example of when each type might be used."
   ]
  },
  {
   "cell_type": "markdown",
   "id": "50fdf5bd-0e64-43a1-b8e2-07e9e61d11a9",
   "metadata": {},
   "source": [
    "Statistics is mainly divided into the following two categories. \n",
    "1. Descriptive Statistics: In the descriptive Statistics, the Data is described in a summarized way. The summarization is done from the sample of the population using different parameters like Mean or standard deviation. Descriptive Statistics are a way of using charts, graphs, and summary measures to organize, represent, and explain a set of Data. \n",
    "2. Inferential Statistics: In the Inferential Statistics, we try to interpret the Meaning of descriptive Statistics. After the Data has been collected, analyzed, and summarised we use Inferential Statistics to describe the Meaning of the collected Data. \n",
    "\n",
    "Example:\n",
    "In a class, the Data is the set of marks obtained by 50 students. Now when we take out the Data average, the result is the average of 50 students’ marks. If the average marks obtained by 50 students are 88 out of 100, on the basis of the outcome"
   ]
  },
  {
   "cell_type": "markdown",
   "id": "729e0bc2-1f88-4912-9b56-0bf027b3767e",
   "metadata": {},
   "source": [
    "# Q3. What are the different types of data and how do they differ from each other? Provide an example of each type of data."
   ]
  },
  {
   "cell_type": "markdown",
   "id": "0e9fe43f-414c-4a87-b8b9-9e2a89985f95",
   "metadata": {},
   "source": [
    "1. Quantitative data: The data collected on the grounds of the numerical variables are quantitative data. Quantitative data are more objective and conclusive in nature. It measures the values and is expressed in numbers. The data collection is based on “how much” is the quantity. The data in quantitative analysis is expressed in numbers so it can be counted or measured. The data is extracted from experiments, surveys, market reports, matrices, etc.\n",
    "Some of the examples of quantitative data are:\n",
    "1. The measurement of height, length, or weight.\n",
    "2. Counting the numbers of sales.\n",
    "3. Rating something on a numerical scale.\n",
    "\n",
    "2. Qualitative data: The data collected on grounds of categorical variables are qualitative data. Qualitative data are more descriptive and conceptual in nature. It measures the data on basis of the type of data, collection, or category. The data collection is based on what type of quality is given. Qualitative data is categorized into different groups based on characteristics. The data obtained from these kinds of analysis or research is used in theorization, perceptions, and developing hypothetical theories. These data are collected from texts, documents, transcripts, audio and video recordings, etc.\n",
    "Some of the examples of quantitative data are:\n",
    "1. Diary accounts\n",
    "2. Audio recordings\n",
    "3. Observations\n",
    "\n",
    "\n",
    "Qualitative data are descriptive and conceptual whereas, quantitative data is expressed in numbers that can be measured or counted."
   ]
  },
  {
   "cell_type": "markdown",
   "id": "d88befa3-8cb7-4b40-a4d0-c1f92f193452",
   "metadata": {},
   "source": [
    "# Q4. Categorise the following datasets with respect to quantitative and qualitative data types:\n",
    "(i) Grading in exam: A+, A, B+, B, C+, C, D, E\n",
    "(ii) Colour of mangoes: yellow, green, orange, red\n",
    "(iii) Height data of a class: [178.9, 179, 179.5, 176, 177.2, 178.3, 175.8,...]\n",
    "(iv) Number of mangoes exported by a farm: [500, 600, 478, 672, ...]"
   ]
  },
  {
   "cell_type": "markdown",
   "id": "d264bbf3-ff05-4c38-aa88-71186f9a4ac0",
   "metadata": {},
   "source": [
    "(i) Grading in exam: A+, A, B+, B, C+, C, D,  ----------Qualitative\n",
    "(ii) Colour of mangoes: yellow, green, orange, red ----------Qualitative\n",
    "(iii) Height data of a class: [178.9, 179, 179.5, 176, 177.2, 178.3, 175.8,...]------------Quantitative\n",
    "(iv) Number of mangoes exported by a farm: [500, 600, 478, 672, ...] -------------Quantitative"
   ]
  },
  {
   "cell_type": "markdown",
   "id": "27f510b6-617c-4c2b-a0e3-b2406d4d7c6f",
   "metadata": {},
   "source": [
    "# Q5. Explain the concept of levels of measurement and give an example of a variable for each level."
   ]
  },
  {
   "cell_type": "markdown",
   "id": "145d4d65-fe50-4a73-9b0b-c4397bfc980a",
   "metadata": {},
   "source": [
    "Levels of measurement, also called scales of measurement, tell you how precisely variables are recorded. In scientific research, a variable is anything that can take on different values across your data set.\n",
    "\n",
    "In statistics, There are 4 levels of measurement: nominal, ordinal, interval, and ratio.\n",
    "1. Nominal Data: Nominal data is a type of data that consists of categories or names that cannot be ordered or ranked. Nominal data is often used to categorize observations into groups, and the groups are not comparable. In other words, nominal data has no inherent order or ranking. \n",
    "Examples of nominal data include gender (male/female), race (White/Black/Asian), religion (Christianity/Islam/Judaism), and blood type (A/B/AB/O).\n",
    "\n",
    "2. Ordinal Data: Ordinal data is a type of data that consists of categories that can be ordered or ranked. However, the distance between categories is not necessarily equal. Ordinal data is often used to measure subjective attributes or opinions, where there is a natural order to the responses. \n",
    "Examples of ordinal data include education level (elementary/middle/high school/college), job position (manager/supervisor/employee), and Likert scales (strongly agree/agree/disagree/strongly disagree).\n",
    "\n",
    "3. Interval Data: Interval data is a type of data that consists of numerical values where the distance between each value is equal. However, there is no true zero point. Interval data is often used to measure attributes such as temperature, dates, and time. \n",
    "Examples of interval data include temperature (Celsius/Fahrenheit), dates (days/months/years), and time (hours/minutes/seconds).\n",
    "\n",
    "4. Ratio Data: Ratio data is a type of data that has a true zero point and an equal distance between each value. Ratio data is considered the most informative type of data because it can be used to make meaningful comparisons and calculations. In addition, ratio data can be used to perform all types of statistical analyses.\n",
    "Examples of ratio data include height (inches/centimeters), weight (pounds/kilograms), income (dollars), and distance (miles/kilometers). For instance, if someone’s height is 60 inches, it means that they are 5 feet tall, and if their height is 72 inches, it means that they are 6 feet tall."
   ]
  },
  {
   "cell_type": "markdown",
   "id": "ac7bd82f-fe07-4526-a16e-53e49e738a76",
   "metadata": {},
   "source": [
    "# Q6. Why is it important to understand the level of measurement when analyzing data? Provide an example to illustrate your answer."
   ]
  },
  {
   "cell_type": "markdown",
   "id": "9072da5b-526c-4f47-acac-ece011b5c673",
   "metadata": {},
   "source": [
    "First, knowing the level of measurement helps you decide how to interpret the data from that variable. When you know that a measure is nominal (like the one just described), then you know that the numerical values are just short codes for the longer names. Second, knowing the level of measurement helps you decide what statistical analysis is appropriate on the values that were assigned. If a measure is nominal, then you know that you would never average the data values or do a t-test on the data."
   ]
  },
  {
   "cell_type": "markdown",
   "id": "672465ec-c647-4dd6-94a7-6668f0376316",
   "metadata": {},
   "source": [
    "It is important to understand the level of measurement of variables in research, because the level of measurement determines the type of statistical analysis that can be conducted, and, therefore, the type of conclusions that can be drawn from the research."
   ]
  },
  {
   "cell_type": "markdown",
   "id": "2e9e4962-d164-403a-b4a5-709891aa75b4",
   "metadata": {},
   "source": [
    "# Q7. How nominal data type is different from ordinal data type."
   ]
  },
  {
   "cell_type": "markdown",
   "id": "903e3960-0a67-479b-a42a-4419f02bb810",
   "metadata": {},
   "source": [
    "Nominal Data is classified without any intrinsic ordering or rank, Ordinal Data has some predetermined or natural order. Nominal data is qualitative or categorical data, while Ordinal data is considered “in-between” qualitative and quantitative data."
   ]
  },
  {
   "cell_type": "markdown",
   "id": "84abaa1f-83df-4861-a3e7-31553dd7cbee",
   "metadata": {},
   "source": [
    "# Q8. Which type of plot can be used to display data in terms of range?"
   ]
  },
  {
   "cell_type": "markdown",
   "id": "d00ce1f8-0d8a-4435-bae9-0220d69d5059",
   "metadata": {},
   "source": [
    "Histogram. If the groups depicted in a bar chart are actually continuous numeric ranges, we can push the bars together to generate a histogram. Bar lengths in histograms typically correspond to counts of data points, and their patterns demonstrate the distribution of variables in your data."
   ]
  },
  {
   "cell_type": "markdown",
   "id": "31b7749c-0d5e-40a1-9fcb-b06f7f202c44",
   "metadata": {},
   "source": [
    "# Q9. Describe the difference between descriptive and inferential statistics. Give an example of each type of statistics and explain how they are used."
   ]
  },
  {
   "cell_type": "markdown",
   "id": "60f01236-f803-4577-9433-6c0e1ba40173",
   "metadata": {},
   "source": [
    "Descriptive Statistics\n",
    "In this type of statistics, the data is summarised through the given observations. The summarisation is one from a sample of population using parameters such as the mean or standard deviation.\n",
    "\n",
    "Descriptive statistics is a way to organise, represent and describe a collection of data using tables, graphs, and summary measures. For example, the collection of people in a city using the internet or using Television.\n",
    "Descriptive statistics summarize the characteristics of a data set. \n",
    "\n",
    "\n",
    "Inferential Statistics\n",
    "This type of statistics is used to interpret the meaning of Descriptive statistics. That means once the data has been collected, analysed and summarised then we use these stats to describe the meaning of the collected data. Or we can say, it is used to draw conclusions from the data that depends on random variations such as observational errors, sampling variation, etc.\n",
    "\n",
    "Inferential Statistics is a method that allows us to use information collected from a sample to make decisions, predictions or inferences from a population. It grants us permission to give statements that goes beyond the available data or information. For example, deriving estimates from hypothetical research.\n",
    "Inferential statistics allow you to test a hypothesis or assess whether your data is generalizable to the broader population.\n",
    "\n",
    "Example: In a class, the collection of marks obtained by 50 students is the description of data. Now when we take out the mean of the data, the result is the average of marks of 50 students. If the average mark obtained by 50 students is 88 out of 100, then we can reach to a conclusion or give a judgment on the basis of the result."
   ]
  },
  {
   "cell_type": "markdown",
   "id": "10bea2ed-81e7-4bfa-8689-36ff3625e2f2",
   "metadata": {},
   "source": [
    "# Q10. What are some common measures of central tendency and variability used in statistics? Explain how each measure can be used to describe a dataset."
   ]
  },
  {
   "cell_type": "markdown",
   "id": "fbc08e65-b287-4883-8c39-84c891f22a6a",
   "metadata": {},
   "source": [
    "Central tendency and variation are two measures used in statistics to summarize data. Measure of central tendency shows where the center or middle of the data set is located, whereas measure of variation shows the dispersion among data values.\n",
    "Measure of central tendency--\n",
    "Mean, Median, Mode\n",
    "Variability-----\n",
    "Variance, Standard deviation, Range\n",
    "\n",
    "Measures of central tendency---\n",
    "Central tendency of quantitative data to cluster around some central value. The closeness with which the values surround the central value is commonly quantified using the standard deviation.\n",
    "\n",
    "Measure of Variability---\n",
    "Dispersion is contrasted with location or central tendency, and together they are the most used properties of distributions. It is the variability or spread in a variable or a probability distribution Ie They tell us how much observations in a data set vary.\n",
    "They allow us to summarise our data set with a single value hence giving a more accurate picture of our data set.\n",
    "\n"
   ]
  },
  {
   "cell_type": "code",
   "execution_count": null,
   "id": "57dd58f2-8242-496f-af48-273ab4c92d7c",
   "metadata": {},
   "outputs": [],
   "source": []
  }
 ],
 "metadata": {
  "kernelspec": {
   "display_name": "R",
   "language": "R",
   "name": "ir"
  },
  "language_info": {
   "codemirror_mode": "r",
   "file_extension": ".r",
   "mimetype": "text/x-r-source",
   "name": "R",
   "pygments_lexer": "r",
   "version": "4.2.2"
  }
 },
 "nbformat": 4,
 "nbformat_minor": 5
}
